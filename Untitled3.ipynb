{
  "nbformat": 4,
  "nbformat_minor": 0,
  "metadata": {
    "colab": {
      "provenance": [],
      "toc_visible": true,
      "authorship_tag": "ABX9TyMKo/LiwxvHjHWQ0an6e9tF",
      "include_colab_link": true
    },
    "kernelspec": {
      "name": "python3",
      "display_name": "Python 3"
    },
    "language_info": {
      "name": "python"
    }
  },
  "cells": [
    {
      "cell_type": "markdown",
      "metadata": {
        "id": "view-in-github",
        "colab_type": "text"
      },
      "source": [
        "<a href=\"https://colab.research.google.com/github/FranJovel10/Progra-III/blob/main/Untitled3.ipynb\" target=\"_parent\"><img src=\"https://colab.research.google.com/assets/colab-badge.svg\" alt=\"Open In Colab\"/></a>"
      ]
    },
    {
      "cell_type": "code",
      "execution_count": null,
      "metadata": {
        "colab": {
          "base_uri": "https://localhost:8080/"
        },
        "id": "p1BSZ41DdgfR",
        "outputId": "4cd433c0-3751-4268-d939-38e028b47aad"
      },
      "outputs": [
        {
          "output_type": "stream",
          "name": "stdout",
          "text": [
            "Fahrenheit: 89\n",
            "Celsius:  31.7\n"
          ]
        }
      ],
      "source": [
        "def convertir_f(f):\n",
        "    return round ((f - 32) * 5 / 9, 1)\n",
        "\n",
        "f = float(input(\"Fahrenheit: \"))\n",
        "print(\"Celsius: \", convertir_f(f))"
      ]
    },
    {
      "cell_type": "code",
      "source": [
        "def celsius_a_kelvin(c):\n",
        "    return c + 273.15\n",
        "\n",
        "def fahrenheit_a_kelvin(f):\n",
        "    return (f - 32) * 5 / 9 + 273.15\n",
        "\n",
        "tipo = input(\"¿Qué tipo de grados vas a introducir? (1 para Celsius, 2 para Fahrenheit): \").strip().upper()\n",
        "\n",
        "if tipo == \"1\":\n",
        "    c = float(input(\"Celsius: \"))\n",
        "    print(\"Kelvin: \", round(celsius_a_kelvin(c), 2))\n",
        "elif tipo == \"2\":\n",
        "    f = float(input(\"Fahrenheit: \"))\n",
        "    print(\"Kelvin: \", round(fahrenheit_a_kelvin(f), 2))\n",
        "else:\n",
        "    print(\"Tipo no válido. Introduce 1 para Celsius o 2 para Fahrenheit.\")"
      ],
      "metadata": {
        "id": "pTz6Dq0SgbJU",
        "colab": {
          "base_uri": "https://localhost:8080/"
        },
        "outputId": "65a5a22c-e900-450d-c225-e1fafb5e4d4e"
      },
      "execution_count": 15,
      "outputs": [
        {
          "output_type": "stream",
          "name": "stdout",
          "text": [
            "¿Qué tipo de grados vas a introducir? (1 para Celsius, 2 para Fahrenheit): 1\n",
            "Celsius: 39\n",
            "Kelvin:  312.15\n"
          ]
        }
      ]
    }
  ]
}