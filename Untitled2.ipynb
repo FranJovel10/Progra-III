#CONVERTIR DE FAHRENHEIT A CELSIUS

{
  "nbformat": 4,
  "nbformat_minor": 0,
  "metadata": {
    "colab": {
      "provenance": [],
      "authorship_tag": "ABX9TyNpczl8FbqTUYQl4+6joCNE",
      "include_colab_link": true
    },
    "kernelspec": {
      "name": "python3",
      "display_name": "Python 3"
    },
    "language_info": {
      "name": "python"
    }
  },
  "cells": [
    {
      "cell_type": "markdown",
      "metadata": {
        "id": "view-in-github",
        "colab_type": "text"
      },
      "source": [
        "<a href=\"https://colab.research.google.com/github/FranJovel10/Progra-III/blob/main/Untitled2.ipynb\" target=\"_parent\"><img src=\"https://colab.research.google.com/assets/colab-badge.svg\" alt=\"Open In Colab\"/></a>"
      ]
    },
    {
      "cell_type": "code",
      "execution_count": null,
      "metadata": {
        "colab": {
          "base_uri": "https://localhost:8080/"
        },
        "id": "p1BSZ41DdgfR",
        "outputId": "4cd433c0-3751-4268-d939-38e028b47aad"
      },
      "outputs": [
        {
          "output_type": "stream",
          "name": "stdout",
          "text": [
            "Fahrenheit: 89\n",
            "Celsius:  31.7\n"
          ]
        }
      ],
      "source": [
        "def convertir_f(f):\n",
        "    return round ((f - 32) * 5 / 9, 1)\n",
        "\n",
        "f = float(input(\"Fahrenheit: \"))\n",
        "print(\"Celsius: \", convertir_f(f))"
      ]
    }
  ]
}
