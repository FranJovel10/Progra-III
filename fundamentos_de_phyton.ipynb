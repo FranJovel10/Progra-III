{
  "nbformat": 4,
  "nbformat_minor": 0,
  "metadata": {
    "colab": {
      "provenance": [],
      "authorship_tag": "ABX9TyPH0R1gvuydOhKD/ZKtWUWB",
      "include_colab_link": true
    },
    "kernelspec": {
      "name": "python3",
      "display_name": "Python 3"
    },
    "language_info": {
      "name": "python"
    }
  },
  "cells": [
    {
      "cell_type": "markdown",
      "metadata": {
        "id": "view-in-github",
        "colab_type": "text"
      },
      "source": [
        "<a href=\"https://colab.research.google.com/github/FranJovel10/Progra-III/blob/main/fundamentos_de_phyton.ipynb\" target=\"_parent\"><img src=\"https://colab.research.google.com/assets/colab-badge.svg\" alt=\"Open In Colab\"/></a>"
      ]
    },
    {
      "cell_type": "code",
      "execution_count": null,
      "metadata": {
        "colab": {
          "base_uri": "https://localhost:8080/"
        },
        "id": "VjSiYRA2xcEw",
        "outputId": "be4cd468-875d-4dc0-8e29-9324dcb5a125"
      },
      "outputs": [
        {
          "output_type": "stream",
          "name": "stdout",
          "text": [
            "Hola mundo\n",
            "Hola  Fran , inicial:  F n\n"
          ]
        }
      ],
      "source": [
        "print(\"Hola mundo\")\n",
        "nombre = \"Fran\"\n",
        "\n",
        "print(\"Hola \", nombre, \", inicial: \", nombre[0], nombre[3])"
      ]
    },
    {
      "cell_type": "code",
      "source": [
        "def convertir_f(f):\n",
        "    return round ((f - 32) * 5 / 9, 1)\n",
        "\n",
        "f = float(input(\"Fahrenheit: \"))\n",
        "print(\"Celsius: \", convertir_f(f))"
      ],
      "metadata": {
        "id": "p8nlrgFI3n2q",
        "outputId": "55881bc7-8b07-4bf8-e73c-ed2a2bbc1a4f",
        "colab": {
          "base_uri": "https://localhost:8080/"
        }
      },
      "execution_count": null,
      "outputs": [
        {
          "output_type": "stream",
          "name": "stdout",
          "text": [
            "Fahrenheit: 32\n",
            "Celsius:  0.0\n"
          ]
        }
      ]
    },
    {
      "cell_type": "code",
      "source": [
        "def celsius_a_kelvin(c):\n",
        "    return c + 273.15\n",
        "\n",
        "def fahrenheit_a_kelvin(f):\n",
        "    return (f - 32) * 5 / 9 + 273.15\n",
        "\n",
        "tipo = input(\"¿Qué tipo de grados vas a introducir? (1 para Celsius, 2 para Fahrenheit): \").strip().upper()\n",
        "\n",
        "if tipo == \"1\":\n",
        "    c = float(input(\"Celsius: \"))\n",
        "    print(\"Kelvin: \", round(celsius_a_kelvin(c), 2))\n",
        "elif tipo == \"2\":\n",
        "    f = float(input(\"Fahrenheit: \"))\n",
        "    print(\"Kelvin: \", round(fahrenheit_a_kelvin(f), 2))\n",
        "else:\n",
        "    print(\"Tipo no válido. Introduce 1 para Celsius o 2 para Fahrenheit.\")"
      ],
      "metadata": {
        "id": "F_NFtu1l4I40",
        "outputId": "42ba854e-f897-4e6e-e96b-fec9c39b6b11",
        "colab": {
          "base_uri": "https://localhost:8080/"
        }
      },
      "execution_count": null,
      "outputs": [
        {
          "output_type": "stream",
          "name": "stdout",
          "text": [
            "¿Qué tipo de grados vas a introducir? (1 para Celsius, 2 para Fahrenheit): 2\n",
            "Fahrenheit: 315\n",
            "Kelvin:  430.37\n"
          ]
        }
      ]
    },
    {
      "cell_type": "code",
      "source": [
        "def elevarCuadrado(base, exponente):\n",
        "  return base**exponente\n",
        "num = int (input(\"num: \"))\n",
        "print(\"Cuadrado: \", elevarCuadrado(num, 3))\n"
      ],
      "metadata": {
        "id": "jKTU8owuCQtS"
      },
      "execution_count": null,
      "outputs": []
    },
    {
      "cell_type": "code",
      "source": [
        "elevarCuadradoLambda = lambda base, exponente: base**exponente\n"
      ],
      "metadata": {
        "id": "DTZzvjLuCT1L"
      },
      "execution_count": null,
      "outputs": []
    },
    {
      "cell_type": "code",
      "source": [
        "valor = int(input(\"num: \"))\n",
        "print(\"Cuadrado: \", elevarCuadradoLambda(valor, 2))\n",
        "\n"
      ],
      "metadata": {
        "id": "M9lEqof9Cd82"
      },
      "execution_count": null,
      "outputs": []
    },
    {
      "cell_type": "code",
      "source": [
        "serie = [5,4,3,2,6,7]\n",
        "resp = map(lambda x: x**2, serie)\n",
        "print(list(resp))\n",
        "\n",
        "resp2 = map(elevarCuadrado, serie)\n",
        "print(list(resp2))\n"
      ],
      "metadata": {
        "id": "Pbz_tyHOCh3N"
      },
      "execution_count": null,
      "outputs": []
    },
    {
      "cell_type": "markdown",
      "source": [
        "Ejercicio: obtener la raiz cuadrada de una serie de numeros fijos"
      ],
      "metadata": {
        "id": "jn4MT4NPDWRe"
      }
    },
    {
      "cell_type": "code",
      "source": [
        "import math\n",
        "\n",
        "numeros = [1, 4, 9, 16, 25, 36, 49, 64, 81, 100]\n",
        "raices_cuadradas = [int(math.sqrt(num)) for num in numeros]\n",
        "\n",
        "for num, raiz in zip(numeros, raices_cuadradas):\n",
        "    print(f'La raíz cuadrada de {num} es {raiz}')\n",
        "\n"
      ],
      "metadata": {
        "id": "62WQDvo2D1T2",
        "outputId": "2767d064-bd56-4094-ed5d-63414c87160e",
        "colab": {
          "base_uri": "https://localhost:8080/"
        }
      },
      "execution_count": null,
      "outputs": [
        {
          "output_type": "stream",
          "name": "stdout",
          "text": [
            "La raíz cuadrada de 1 es 1\n",
            "La raíz cuadrada de 4 es 2\n",
            "La raíz cuadrada de 9 es 3\n",
            "La raíz cuadrada de 16 es 4\n",
            "La raíz cuadrada de 25 es 5\n",
            "La raíz cuadrada de 36 es 6\n",
            "La raíz cuadrada de 49 es 7\n",
            "La raíz cuadrada de 64 es 8\n",
            "La raíz cuadrada de 81 es 9\n",
            "La raíz cuadrada de 100 es 10\n"
          ]
        }
      ]
    },
    {
      "cell_type": "markdown",
      "source": [
        "Ejercicios preconstruidos en phyton\n"
      ],
      "metadata": {
        "id": "kVDexODvDfg_"
      }
    },
    {
      "cell_type": "markdown",
      "source": [
        "Map"
      ],
      "metadata": {
        "id": "mIaw1qIVDdtN"
      }
    },
    {
      "cell_type": "code",
      "source": [
        "numeros = [1,2,3,4,5,6,7,8,9]\n",
        "print(list(map(lambda n: n*2, numeros)))"
      ],
      "metadata": {
        "id": "WnNotqLNDqSj",
        "outputId": "93982f78-ff8b-4fa0-e593-af7a54fcb816",
        "colab": {
          "base_uri": "https://localhost:8080/"
        }
      },
      "execution_count": null,
      "outputs": [
        {
          "output_type": "stream",
          "name": "stdout",
          "text": [
            "[2, 4, 6, 8, 10, 12, 14, 16, 18]\n"
          ]
        }
      ]
    },
    {
      "cell_type": "code",
      "source": [
        "numeros = [1,2,3,4,5,6,7,8,9, 10]\n",
        "ntabla = int(input(\"Tabla: \"))\n",
        "print(list(map(lambda n: n*ntabla, numeros)))"
      ],
      "metadata": {
        "id": "F8RrjLFTD0Jj",
        "outputId": "e8a1938d-b1e3-4e42-abbe-5a47c7cc1439",
        "colab": {
          "base_uri": "https://localhost:8080/"
        }
      },
      "execution_count": null,
      "outputs": [
        {
          "output_type": "stream",
          "name": "stdout",
          "text": [
            "Tabla: 3\n",
            "[3, 6, 9, 12, 15, 18, 21, 24, 27, 30]\n"
          ]
        }
      ]
    },
    {
      "cell_type": "markdown",
      "source": [
        "FILTER"
      ],
      "metadata": {
        "id": "RClflSsdEQkR"
      }
    },
    {
      "cell_type": "code",
      "source": [
        "numeros = [1,2,3,4,5,6,7,8,9,10]\n",
        "print(\"Pares: \", list(filter(lambda n: n%2==0, numeros)))\n",
        "print(\"Impares: \", list(filter(lambda n: n%2!=0, numeros)))"
      ],
      "metadata": {
        "id": "eKh9hN8xER8c"
      },
      "execution_count": null,
      "outputs": []
    },
    {
      "cell_type": "code",
      "source": [
        "notas = [8,4,9,10,7,6,9,10,2,3,1,8,2,9]\n",
        "print(\"Aprobados: \", list(filter(lambda n: n>=6, notas)))\n",
        "print(\"Reprobados: \", list(filter(lambda n: n<6, notas)))"
      ],
      "metadata": {
        "id": "3ICWI5MsEqQT"
      },
      "execution_count": null,
      "outputs": []
    },
    {
      "cell_type": "markdown",
      "source": [
        "REDUCE"
      ],
      "metadata": {
        "id": "GIW_RVweEr76"
      }
    },
    {
      "cell_type": "code",
      "source": [
        "from functools import reduce\n",
        "numeros = [7,8,9,10]\n",
        "print(\"Suma: \", reduce(lambda n, acum: n+acum, numeros))"
      ],
      "metadata": {
        "id": "AwDOIPJiEtLO"
      },
      "execution_count": null,
      "outputs": []
    },
    {
      "cell_type": "markdown",
      "source": [
        "TUPLAS"
      ],
      "metadata": {
        "id": "MYNNdhU2Exmu"
      }
    },
    {
      "cell_type": "code",
      "source": [
        "from functools import reduce\n",
        "numeros = [7,8,9,10]\n",
        "print(\"Suma: \", reduce(lambda n, acum: n+acum, numeros))"
      ],
      "metadata": {
        "id": "Ig6lfJnTEzhV"
      },
      "execution_count": null,
      "outputs": []
    },
    {
      "cell_type": "code",
      "source": [
        "semana = (\"domingo\", \"lunes\", \"martes\", \"miercoles\", \"jueves\", \"viernes\", \"sabado\")\n",
        "print(\"Primer dia: \",semana[0], \"; Cuantas veces repite domingo: \",semana.count(\"domingo\"), \"; dias de la semana: \", len(semana))"
      ],
      "metadata": {
        "id": "ps5WhaiPE6L1",
        "outputId": "573bd6dc-4d2c-47ce-b53a-001459d16def",
        "colab": {
          "base_uri": "https://localhost:8080/"
        }
      },
      "execution_count": null,
      "outputs": [
        {
          "output_type": "stream",
          "name": "stdout",
          "text": [
            "Primer dia:  domingo ; Cuantas veces repite domingo:  1 ; dias de la seman:  7\n"
          ]
        }
      ]
    },
    {
      "cell_type": "code",
      "source": [
        "import datetime\n",
        "hoy = datetime.date.today()\n",
        "dia = hoy.day\n",
        "mes = hoy.month\n",
        "year = hoy.year\n",
        "dia_semana = hoy.isoweekday()\n",
        "\n",
        "semana = (\"domingo\",\"lunes\",\"martes\",\"miercoles\",\"jueves\", \"viernes\", \"sabado\")\n",
        "meses = (\"enero\", \"febrero\", \"marzo\", \"abril\", \"mayo\", \"junio\", \"julio\", \"agosto\", \"septiembre\", \"octubre\", \"noviembre\", \"diciembre\")\n",
        "\n",
        "print(\"Fecha: \", semana[dia_semana], dia, \" de \", meses[mes], \" del \", year)\n"
      ],
      "metadata": {
        "id": "dHn3fenTFI01",
        "outputId": "a46e33f7-a8ef-40f2-b474-f967baaea4bc",
        "colab": {
          "base_uri": "https://localhost:8080/"
        }
      },
      "execution_count": null,
      "outputs": [
        {
          "output_type": "stream",
          "name": "stdout",
          "text": [
            "Fecha:  miercoles 14  de  septiembre  del  2024\n"
          ]
        }
      ]
    },
    {
      "cell_type": "code",
      "source": [
        "tuplas = (\"Luis\",\"Juan\")\n",
        "#tuplas[0] = \"Pedro\" #Las tuplas son inmutables, no puede cambiar su valor.\n",
        "print(tuplas)\n",
        "\n",
        "listas = [\"Luis\",\"Juan\"]\n",
        "listas[0] = \"Pedro\" #Las listas son mutables, si puede cambiar su valor.\n",
        "print(listas)"
      ],
      "metadata": {
        "id": "jmFrkWEsFNSr"
      },
      "execution_count": null,
      "outputs": []
    },
    {
      "cell_type": "markdown",
      "source": [
        "LISTAS"
      ],
      "metadata": {
        "id": "w3lr0CK6FYl6"
      }
    },
    {
      "cell_type": "code",
      "source": [
        "listas = [5,8,7,9,\"Luis\", \"Jonathan\", \"Ramon\"]\n",
        "print(listas, listas[-1])"
      ],
      "metadata": {
        "id": "eO-dP1N0FaMw"
      },
      "execution_count": null,
      "outputs": []
    },
    {
      "cell_type": "code",
      "source": [
        "def obtenerNota(nota, eval):\n",
        "  return eval[1]*0.3 + nota"
      ],
      "metadata": {
        "id": "EiD_MLJbFduw"
      },
      "execution_count": null,
      "outputs": []
    },
    {
      "cell_type": "code",
      "source": [
        "matriz = [ [\"Lab1\", 8],[\"Lab2\", 9], [\"Parcial\", 8] ] #8*0.3=2.4 + 9*0.3=2.7 + 8*0.3=2.4\n",
        "functools.reduce(obtenerNota, matriz, 0)"
      ],
      "metadata": {
        "id": "B6MkV_0UFgPz"
      },
      "execution_count": null,
      "outputs": []
    },
    {
      "cell_type": "code",
      "source": [
        "serie = [1,2,3,3,4,4,1,8,9]\n",
        "print(serie.count(1))"
      ],
      "metadata": {
        "id": "TBHtTRe5FlFp"
      },
      "execution_count": null,
      "outputs": []
    },
    {
      "cell_type": "code",
      "source": [
        "numeros = []\n",
        "for i in range(1,10):\n",
        "  numeros.append(int(input(\"Num: \"+ str(i)+\": \")))\n",
        "num = int(input(\"Num a buscar: \"))\n",
        "print(\"Serie: \", numeros, \"El numero \", num, \", se repite: \", numeros.count(num))"
      ],
      "metadata": {
        "id": "5qVQ3Np2Forz"
      },
      "execution_count": null,
      "outputs": []
    },
    {
      "cell_type": "code",
      "source": [
        "numeros = [1,5,2,6,2,1,4]\n",
        "numeros.sort()\n",
        "numeros.reverse()\n",
        "print(numeros)"
      ],
      "metadata": {
        "id": "Oshk_HGUFufD"
      },
      "execution_count": null,
      "outputs": []
    },
    {
      "cell_type": "markdown",
      "source": [
        "DICCIONARIO JSON"
      ],
      "metadata": {
        "id": "pc6AZutrFvEW"
      }
    },
    {
      "cell_type": "code",
      "source": [
        "datos = {\n",
        "    \"codigo\":\"USIS018804\",\n",
        "    \"nombre\":\"Luis Hernandez\",\n",
        "    \"materias\":[\n",
        "        {\"codigo\":\"611\",\"nombre\":\"Programacion III\",\"notas\":{\n",
        "            \"c1\":{\"lab1\":8,\"lab2\":9,\"parcial\":10},\n",
        "            \"c2\":{\"lab1\":10,\"lab2\":9,\"parcial\":10},\n",
        "            \"c3\":{\"lab1\":4,\"lab2\":5,\"parcial\":8}\n",
        "            }\n",
        "         },\n",
        "        {\"codigo\":\"612\",\"nombre\":\"Base de Datos\"}\n",
        "    ]\n",
        "}\n",
        "print(datos[\"nombre\"], datos[\"materias\"][0][\"nombre\"], datos[\"materias\"][0][\"notas\"][\"c1\"])"
      ],
      "metadata": {
        "id": "B9hh5yAJFyQk"
      },
      "execution_count": null,
      "outputs": []
    },
    {
      "cell_type": "markdown",
      "source": [
        "ESTRUCTURAS DE CONTROL"
      ],
      "metadata": {
        "id": "W-aJvuumF1Ob"
      }
    },
    {
      "cell_type": "markdown",
      "source": [
        "if ejercicio: solicitar al usuario la edad y determinar su clacificacion"
      ],
      "metadata": {
        "id": "SxifL-q7F8fE"
      }
    },
    {
      "cell_type": "code",
      "source": [
        "edad = int(input(\"Edad: \"))\n",
        "if edad>17:\n",
        "  print(\"Ya te van a correr tus padres\")\n"
      ],
      "metadata": {
        "id": "z2vEwUCMGDoA",
        "outputId": "6692db1b-812f-4a17-8deb-4e7bbac8095a",
        "colab": {
          "base_uri": "https://localhost:8080/"
        }
      },
      "execution_count": null,
      "outputs": [
        {
          "output_type": "stream",
          "name": "stdout",
          "text": [
            "Edad: 19\n",
            "Ya te van a correr tus padres\n"
          ]
        }
      ]
    },
    {
      "cell_type": "code",
      "source": [
        "continuar = \"s\"\n",
        "while continuar== \"s\":\n",
        "  edad =  int (input(\"Edad: \"))\n",
        "  if edad<0:\n",
        "  print(\"Edad incorrecta\")\n",
        "\n",
        "  elif edad<=2:\n",
        "  print(\"Eres un bebe\")\n",
        "  elif edad<12:\n",
        "  print(\"Eres un niño\")\n",
        "  elif edad<18:\n",
        "  print(\"Eres un adolscente\")\n",
        "  elif edad<65:\n",
        "  print(\"Eres un adulto\")\n",
        "  elif edad<85:\n",
        "  print(\"Eres un adulto mayor\")\n",
        "  else:\n",
        "  print(\"Larga vida\")\n",
        "\n"
      ],
      "metadata": {
        "id": "VwIyiKkHHWSS",
        "outputId": "b83fa859-496e-427d-cdc2-2cbae9653388",
        "colab": {
          "base_uri": "https://localhost:8080/",
          "height": 106
        }
      },
      "execution_count": null,
      "outputs": [
        {
          "output_type": "error",
          "ename": "IndentationError",
          "evalue": "expected an indented block after 'if' statement on line 4 (<ipython-input-48-a17c364dd5ce>, line 5)",
          "traceback": [
            "\u001b[0;36m  File \u001b[0;32m\"<ipython-input-48-a17c364dd5ce>\"\u001b[0;36m, line \u001b[0;32m5\u001b[0m\n\u001b[0;31m    print(\"Edad incorrecta\")\u001b[0m\n\u001b[0m    ^\u001b[0m\n\u001b[0;31mIndentationError\u001b[0m\u001b[0;31m:\u001b[0m expected an indented block after 'if' statement on line 4\n"
          ]
        }
      ]
    },
    {
      "cell_type": "markdown",
      "source": [
        "Solicitar un numero al usuario si es positivo o negativo"
      ],
      "metadata": {
        "id": "inoVyg2lKPHA"
      }
    },
    {
      "cell_type": "code",
      "source": [
        "numero = int(input(\"Introduce un número: \"))\n",
        "\n",
        "if numero > 0:\n",
        "  print(\"El número es positivo.\")\n",
        "elif numero < 0:\n",
        "  print(\"El número es negativo.\")\n",
        "else:\n",
        "  print(\"El número es cero.\")"
      ],
      "metadata": {
        "id": "-oCtUUjfKdST",
        "outputId": "7f41d039-8acc-4379-813f-d380f27f99fe",
        "colab": {
          "base_uri": "https://localhost:8080/"
        }
      },
      "execution_count": null,
      "outputs": [
        {
          "output_type": "stream",
          "name": "stdout",
          "text": [
            "Introduce un número: 0\n",
            "El número es cero.\n"
          ]
        }
      ]
    },
    {
      "cell_type": "code",
      "source": [
        "continuar=\"s\"\n",
        "while continuar==\"s\":\n",
        "  tabla = int(input(\"Tabla: \"))\n",
        "  for i in range(1,11):\n",
        "    print(tabla, \"x\", i, \"=\", tabla*i)\n",
        "    continuar = input(\"Continuar s, sino cualquier teclas: \")"
      ],
      "metadata": {
        "id": "8Lm2f9MAOkAr",
        "outputId": "d9e52260-42f1-4389-cd53-2e6a87d54270",
        "colab": {
          "base_uri": "https://localhost:8080/"
        }
      },
      "execution_count": null,
      "outputs": [
        {
          "metadata": {
            "tags": null
          },
          "name": "stdout",
          "output_type": "stream",
          "text": [
            "55 x 1 = 55\n",
            "55 x 2 = 110\n"
          ]
        }
      ]
    },
    {
      "cell_type": "markdown",
      "source": [
        "Ejercicio 1: Calcular deducciones sobre el sueldo Calcule las deducciones de ISSS (3%), AFP (6.25%), e ISR."
      ],
      "metadata": {
        "id": "0Y28R-OsIeqt"
      }
    },
    {
      "cell_type": "code",
      "source": [
        "sueldo_a = float(input(\"Ingrese el sueldo: \"))\n",
        "\n",
        "ISSS = sueldo_a * 0.03\n",
        "AFP = sueldo_a * 0.0625\n",
        "ISR = sueldo_a * 0.00\n",
        "\n",
        "total_deducciones = ISSS + AFP + ISR\n",
        "\n",
        "sueldo_b = sueldo_a - total_deducciones\n",
        "\n",
        "print(f\"ISSS: ${ISSS:.2f}\")\n",
        "print(f\"AFP: ${AFP:.2f}\")\n",
        "print(f\"ISR: ${ISR:.2f}\")\n",
        "print(f\"Total deducciones: ${total_deducciones:.2f}\")\n",
        "print(f\"Sueldo: ${sueldo_b:.2f}\")"
      ],
      "metadata": {
        "id": "gpcsRbQQIk5a"
      },
      "execution_count": null,
      "outputs": []
    },
    {
      "cell_type": "markdown",
      "source": [
        "Ejercicio 2: Calcular el valor a pagar según los metros consumidos de agua potable."
      ],
      "metadata": {
        "id": "T5ItCu7_IoK3"
      }
    },
    {
      "cell_type": "code",
      "source": [
        "def calcular_valor_agua(metros_consumidos):\n",
        "    if metros_consumidos <= 18:\n",
        "        return 6\n",
        "    elif 19 <= metros_consumidos <= 28:\n",
        "        exceso = metros_consumidos - 18\n",
        "        return 6 + (exceso * 0.45)\n",
        "    else:\n",
        "        exceso = metros_consumidos - 28\n",
        "        return 6 + (10 * 0.45) + (exceso * 0.65)\n",
        "\n",
        "\n",
        "metros_consumidos = int(input(\"Ingrese el número de los metros consumidos: \"))\n",
        "valor_a_pagar = calcular_valor_agua(metros_consumidos)\n",
        "print(f\"Valor a pagar: ${valor_a_pagar:.2f}\")"
      ],
      "metadata": {
        "id": "Ru5JdpTHI0m8"
      },
      "execution_count": null,
      "outputs": []
    },
    {
      "cell_type": "markdown",
      "source": [
        "Ejercicio 3: Desarrollar la tabla de meses acumulados"
      ],
      "metadata": {
        "id": "8_SQ28_2I6v7"
      }
    },
    {
      "cell_type": "code",
      "source": [
        "def calcular_acumulacion(meses):\n",
        "    acumulacion = 0\n",
        "    for i in range(1, meses + 1):\n",
        "        acumulacion += i\n",
        "    return acumulacion\n",
        "\n",
        "meses = int(input(\"Ingrese el número de meses: \"))\n",
        "resultado = calcular_acumulacion(meses)\n",
        "print(f\"Acumulación de {meses} meses: {resultado}\")"
      ],
      "metadata": {
        "id": "kQ8kmOyQI7YZ"
      },
      "execution_count": null,
      "outputs": []
    },
    {
      "cell_type": "markdown",
      "source": [
        "Ejercicio 4: Conversor propio"
      ],
      "metadata": {
        "id": "G_aI6yggJAk-"
      }
    },
    {
      "cell_type": "code",
      "source": [
        "def convertir_cajas_unidades(cajas):\n",
        "    return cajas * 25\n",
        "\n",
        "def convertir_unidades_cajas(unidades):\n",
        "    return unidades / 25\n",
        "\n",
        "def convertir_sacos_libras(sacos):\n",
        "    return sacos * 50\n",
        "\n",
        "def convertir_libras_sacos(libras):\n",
        "    return libras / 50\n",
        "\n",
        "def convertir_fardos_unidades(fardos):\n",
        "    return fardos * 5\n",
        "\n",
        "def convertir_unidades_fardos(unidades):\n",
        "    return unidades / 5\n",
        "def conversor():\n",
        "    print(\"Seleccione la conversión que desea realizar:\")\n",
        "    print(\"1: Cajas a Unidades\")\n",
        "    print(\"2: Unidades a Cajas\")\n",
        "    print(\"3: Sacos a Libras\")\n",
        "    print(\"4: Libras a Sacos\")\n",
        "    print(\"5: Fardos a Unidades\")\n",
        "    print(\"6: Unidades a Fardos\")\n",
        "\n",
        "    opcion = int(input(\"Ingrese el número de la opción deseada: \"))\n",
        "\n",
        "    if opcion == 1:\n",
        "        cajas = float(input(\"Ingrese el número de cajas: \"))\n",
        "        print(f\"{cajas} cajas son {convertir_cajas_unidades(cajas)} unidades.\")\n",
        "    elif opcion == 2:\n",
        "        unidades = float(input(\"Ingrese el número de unidades: \"))\n",
        "        print(f\"{unidades} unidades son {convertir_unidades_cajas(unidades)} cajas.\")\n",
        "    elif opcion == 3:\n",
        "        sacos = float(input(\"Ingrese el número de sacos: \"))\n",
        "        print(f\"{sacos} sacos son {convertir_sacos_libras(sacos)} libras.\")\n",
        "    elif opcion == 4:\n",
        "        libras = float(input(\"Ingrese el número de libras: \"))\n",
        "        print(f\"{libras} libras son {convertir_libras_sacos(libras)} sacos.\")\n",
        "    elif opcion == 5:\n",
        "        fardos = float(input(\"Ingrese el número de fardos: \"))\n",
        "        print(f\"{fardos} fardos son {convertir_fardos_unidades(fardos)} unidades.\")\n",
        "    elif opcion == 6:\n",
        "        unidades = float(input(\"Ingrese el número de unidades: \"))\n",
        "        print(f\"{unidades} unidades son {convertir_unidades_fardos(unidades)} fardos.\")\n",
        "    else:\n",
        "        print(\"Opción no válida\")\n",
        "\n",
        "conversor()"
      ],
      "metadata": {
        "id": "EaGdF8FcJGpa"
      },
      "execution_count": null,
      "outputs": []
    },
    {
      "cell_type": "markdown",
      "source": [
        "Realizar: (10 items como minimo por cada uno) Longuitud, masa, almacenamiento, tiempo, Volumen, area, Manzanas, tareas"
      ],
      "metadata": {
        "id": "ogDdcdNtJOBI"
      }
    },
    {
      "cell_type": "code",
      "source": [
        "# Funciones de conversión para Longitud\n",
        "def convertir_longitud(valor, unidad_origen, unidad_destino):\n",
        "    conversiones = {\n",
        "        'm': 1,\n",
        "        'cm': 100,\n",
        "        'mm': 1000,\n",
        "        'km': 0.001,\n",
        "        'in': 39.3701,\n",
        "        'ft': 3.28084,\n",
        "        'yd': 1.09361,\n",
        "        'mi': 0.000621371,\n",
        "        'nm': 1000000000,\n",
        "        'nmi': 0.000539957\n",
        "    }\n",
        "    metros = valor / conversiones[unidad_origen]\n",
        "    return metros * conversiones[unidad_destino]\n",
        "\n",
        "# Funciones de conversión para Masa\n",
        "def convertir_masa(valor, unidad_origen, unidad_destino):\n",
        "    conversiones = {\n",
        "        'g': 1,\n",
        "        'kg': 0.001,\n",
        "        'mg': 1000,\n",
        "        't': 0.000001,\n",
        "        'lb': 0.00220462,\n",
        "        'oz': 0.035274,\n",
        "        'q': 0.00001,\n",
        "        'µg': 1000000,\n",
        "        'st': 0.000157473,\n",
        "        'dal': 0.001\n",
        "    }\n",
        "    gramos = valor / conversiones[unidad_origen]\n",
        "    return gramos * conversiones[unidad_destino]\n",
        "\n",
        "    # Funciones de conversión para Tiempo\n",
        "def convertir_tiempo(valor, unidad_origen, unidad_destino):\n",
        "    conversiones = {\n",
        "        's': 1,\n",
        "        'min': 1/60,\n",
        "        'h': 1/3600,\n",
        "        'd': 1/86400,\n",
        "        'wk': 1/604800,\n",
        "        'mo': 1/2592000,\n",
        "        'yr': 1/31536000,\n",
        "        'ms': 1000,\n",
        "        'µs': 1e6,\n",
        "        'ns': 1e9\n",
        "    }\n",
        "    segundos = valor / conversiones[unidad_origen]\n",
        "    return segundos * conversiones[unidad_destino]\n",
        "\n",
        "    # Funciones de conversión para Volumen\n",
        "def convertir_volumen(valor, unidad_origen, unidad_destino):\n",
        "    conversiones = {\n",
        "        'L': 1,\n",
        "        'mL': 1000,\n",
        "        'cm³': 1000,\n",
        "        'm³': 0.001,\n",
        "        'gal': 0.264172,\n",
        "        'pt': 2.11338,\n",
        "        'fl oz': 33.814,\n",
        "        'tsp': 202.884,\n",
        "        'tbsp': 67.628,\n",
        "        'bbl': 0.00628981\n",
        "    }\n",
        "    litros = valor / conversiones[unidad_origen]\n",
        "    return litros * conversiones[unidad_destino]\n",
        "\n",
        "# Funciones de conversión para Área\n",
        "def convertir_area(valor, unidad_origen, unidad_destino):\n",
        "    conversiones = {\n",
        "        'm²': 1,\n",
        "        'cm²': 10000,\n",
        "        'km²': 0.000001,\n",
        "        'ha': 0.0001,\n",
        "        'ac': 0.000247105,\n",
        "        'ft²': 10.7639,\n",
        "        'yd²': 1.19599,\n",
        "        'in²': 1550.0031,\n",
        "        'mi²': 3.861e-7,\n",
        "        'a': 0.01\n",
        "    }\n",
        "    metros_cuadrados = valor / conversiones[unidad_origen]\n",
        "    return metros_cuadrados * conversiones[unidad_destino]\n",
        "\n",
        "    # Funciones de conversión para Manzanas\n",
        "def convertir_manzanas(valor, unidad_origen, unidad_destino):\n",
        "    conversiones = {\n",
        "        'manzana': 0.0064,\n",
        "        'cuerda': 0.0069,\n",
        "        'ha': 0.01,\n",
        "        'ac': 0.0247105,\n",
        "        'km²': 0.00001,\n",
        "        'm²': 6400,\n",
        "        'ft²': 68814.4,\n",
        "        'yd²': 7680,\n",
        "        'hato': 0.0064,\n",
        "        'tarea': 0.01\n",
        "    }\n",
        "    hectareas = valor / conversiones[unidad_origen]\n",
        "    return hectareas * conversiones[unidad_destino]\n",
        "\n",
        "# Funciones de conversión para Tareas\n",
        "def convertir_tareas(valor, unidad_origen, unidad_destino):\n",
        "    conversiones = {\n",
        "        'min': 1,\n",
        "        'h': 1/60,\n",
        "        'd': 1/1440,\n",
        "        'wk': 1/10080,\n",
        "        'mo': 1/43200,\n",
        "        'yr': 1/525600,\n",
        "        's': 60,\n",
        "        'turno': 1/480,\n",
        "        'reunión': 1/60,\n",
        "        'intervalo': 1/60\n",
        "    }\n",
        "    minutos = valor / conversiones[unidad_origen]\n",
        "    return minutos * conversiones[unidad_destino]\n",
        "# Menú de selección\n",
        "def menu():\n",
        "    print(\"Seleccione la categoría para la conversión:\")\n",
        "    print(\"1. Longitud\")\n",
        "    print(\"2. Masa\")\n",
        "    print(\"3. Almacenamiento\")\n",
        "    print(\"4. Tiempo\")\n",
        "    print(\"5. Volumen\")\n",
        "    print(\"6. Área\")\n",
        "    print(\"7. Manzanas\")\n",
        "    print(\"8. Tareas\")\n",
        "    print(\"9. Salir\")\n",
        "\n",
        "    seleccion = int(input(\"Ingrese el número de la categoría: \"))\n",
        "\n",
        "    if seleccion == 9:\n",
        "        return\n",
        "\n",
        "    if seleccion == 1:\n",
        "        categoria = 'Longitud'\n",
        "        conversion_func = convertir_longitud\n",
        "        unidades = ['m', 'cm', 'mm', 'km', 'in', 'ft', 'yd', 'mi', 'nm', 'nmi']\n",
        "    elif seleccion == 2:\n",
        "        categoria = 'Masa'\n",
        "        conversion_func = convertir_masa\n",
        "        unidades = ['g', 'kg', 'mg', 't', 'lb', 'oz', 'q', 'µg', 'st', 'dal']\n",
        "    elif seleccion == 3:\n",
        "        categoria = 'Almacenamiento'\n",
        "        conversion_func = convertir_almacenamiento\n",
        "        unidades = ['B', 'KB', 'MB', 'GB', 'TB', 'PB', 'EB', 'ZB', 'YB', 'nibble']\n",
        "    elif seleccion == 4:\n",
        "        categoria = 'Tiempo'\n",
        "        conversion_func = convertir_tiempo\n",
        "        unidades = ['s', 'min', 'h', 'd', 'wk', 'mo', 'yr', 'ms', 'µs', 'ns']\n",
        "    elif seleccion == 5:\n",
        "        categoria = 'Volumen'\n",
        "        conversion_func = convertir_volumen\n",
        "        unidades = ['L', 'mL', 'cm³', 'm³', 'gal', 'pt', 'fl oz', 'tsp', 'tbsp', 'bbl']\n",
        "    elif seleccion == 6:\n",
        "        categoria = 'Área'\n",
        "        conversion_func = convertir_area\n",
        "        unidades = ['m²', 'cm²', 'km²', 'ha', 'ac', 'ft²', 'yd²', 'in²', 'mi²', 'a']\n",
        "    elif seleccion == 7:\n",
        "        categoria = 'Manzanas'\n",
        "        conversion_func = convertir_manzanas\n",
        "        unidades = ['manzana', 'cuerda', 'ha', 'ac', 'km²', 'm²', 'ft²', 'yd²', 'hato', 'tarea']\n",
        "    elif seleccion == 8:\n",
        "        categoria = 'Tareas'\n",
        "        conversion_func = convertir_tareas\n",
        "        unidades = ['min', 'h', 'd', 'wk', 'mo', 'yr', 's', 'turno', 'reunión', 'intervalo']\n",
        "    else:\n",
        "        print(\"Selección no válida\")\n",
        "        return\n",
        "\n",
        "    print(f\"\\nCategoría: {categoria}\")\n",
        "    print(\"Unidades disponibles:\")\n",
        "    for i, unidad in enumerate(unidades):\n",
        "        print(f\"{i + 1}. {unidad}\")\n",
        "\n",
        "    origen = int(input(\"\\nSeleccione la unidad de origen: \")) - 1\n",
        "    destino = int(input(\"Seleccione la unidad de destino: \")) - 1\n",
        "\n",
        "    valor = float(input(\"Ingrese el valor a convertir: \"))\n",
        "\n",
        "    resultado = conversion_func(valor, unidades[origen], unidades[destino])\n",
        "    print(f\"\\n{valor} {unidades[origen]} = {resultado} {unidades[destino]}\\n\")\n",
        "\n",
        "# Ejecutar el menú\n",
        "menu()"
      ],
      "metadata": {
        "id": "N-HWoHpqJRRp"
      },
      "execution_count": null,
      "outputs": []
    },
    {
      "cell_type": "markdown",
      "source": [
        "TAREA:\n",
        "\n",
        "Encontrar de una serie de numeros introducidos por el usuario la varianza"
      ],
      "metadata": {
        "id": "UM-ohTiwJwee"
      }
    },
    {
      "cell_type": "code",
      "source": [
        "import numpy as np\n",
        "print(\"Calcule la varianza de 5 numeros\")\n",
        "numeros = []\n",
        "for i in range(5):\n",
        "    numero = float(input(f\"Introduce el número {i+1}: \"))\n",
        "    numeros.append(numero)\n",
        "\n",
        "numeros_array = np.array(numeros)\n",
        "\n",
        "varianza = np.var(numeros_array)\n",
        "\n",
        "print(f\"La varianza de los números introducidos es: {varianza}\")"
      ],
      "metadata": {
        "id": "mllVt_iEJy0D"
      },
      "execution_count": null,
      "outputs": []
    },
    {
      "cell_type": "markdown",
      "source": [
        "Encontrar de una serie de numeros introducidos por el usuario la frecuencuia"
      ],
      "metadata": {
        "id": "DqEoZuz7J2YH"
      }
    },
    {
      "cell_type": "code",
      "source": [
        "rom collections import Counter\n",
        "print(\"Introduzca 6 numero para encontrar su frecuencia\")\n",
        "numeros = []\n",
        "for i in range(6):\n",
        "    numero = float(input(f\"Introduce el número {i+1}: \"))\n",
        "    numeros.append(numero)\n",
        "\n",
        "frecuencia = Counter(numeros)\n",
        "2\n",
        "print(\"\\nFrecuencia de los números introducidos:\")\n",
        "for numero, freq in frecuencia.items():\n",
        "    print(f\"Número {numero} se repite: {freq} vez/veces\")"
      ],
      "metadata": {
        "id": "Txo_-PTxJ5HA"
      },
      "execution_count": null,
      "outputs": []
    },
    {
      "cell_type": "markdown",
      "source": [
        "Escriba un programa que determine si una palabra introducida por el usuario es palindrome."
      ],
      "metadata": {
        "id": "HECJJojxJ84p"
      }
    },
    {
      "cell_type": "code",
      "source": [
        "def es_palindromo(palabra):\n",
        "    palabra = palabra.replace(\" \", \"\").lower()\n",
        "    return palabra == palabra[::-1]\n",
        "\n",
        "entrada = input(\"Introduce una palabra para verificar si es un palíndromo: \")\n",
        "\n",
        "if es_palindromo(entrada):\n",
        "    print(f\"La palabra '{entrada}' es un palíndromo.\")\n",
        "else:\n",
        "    print(f\"La palabra '{entrada}' no es un palíndromo.\")"
      ],
      "metadata": {
        "id": "9pFpQfbIKAOf"
      },
      "execution_count": null,
      "outputs": []
    }
  ]
}