{
  "nbformat": 4,
  "nbformat_minor": 0,
  "metadata": {
    "colab": {
      "provenance": [],
      "authorship_tag": "ABX9TyNNGlBBDHVADd6x+bjQFvss",
      "include_colab_link": true
    },
    "kernelspec": {
      "name": "python3",
      "display_name": "Python 3"
    },
    "language_info": {
      "name": "python"
    }
  },
  "cells": [
    {
      "cell_type": "markdown",
      "metadata": {
        "id": "view-in-github",
        "colab_type": "text"
      },
      "source": [
        "<a href=\"https://colab.research.google.com/github/FranJovel10/Progra-III/blob/main/fundamentos_de_phyton.ipynb\" target=\"_parent\"><img src=\"https://colab.research.google.com/assets/colab-badge.svg\" alt=\"Open In Colab\"/></a>"
      ]
    },
    {
      "cell_type": "code",
      "execution_count": null,
      "metadata": {
        "colab": {
          "base_uri": "https://localhost:8080/"
        },
        "id": "VjSiYRA2xcEw",
        "outputId": "be4cd468-875d-4dc0-8e29-9324dcb5a125"
      },
      "outputs": [
        {
          "output_type": "stream",
          "name": "stdout",
          "text": [
            "Hola mundo\n",
            "Hola  Fran , inicial:  F n\n"
          ]
        }
      ],
      "source": [
        "print(\"Hola mundo\")\n",
        "nombre = \"Fran\"\n",
        "\n",
        "print(\"Hola \", nombre, \", inicial: \", nombre[0], nombre[3])"
      ]
    },
    {
      "cell_type": "code",
      "source": [
        "def convertir_f(f):\n",
        "    return round ((f - 32) * 5 / 9, 1)\n",
        "\n",
        "f = float(input(\"Fahrenheit: \"))\n",
        "print(\"Celsius: \", convertir_f(f))"
      ],
      "metadata": {
        "id": "p8nlrgFI3n2q",
        "outputId": "93cdf726-a2e7-4235-fdbc-3f9028790ae4",
        "colab": {
          "base_uri": "https://localhost:8080/"
        }
      },
      "execution_count": 1,
      "outputs": [
        {
          "output_type": "stream",
          "name": "stdout",
          "text": [
            "Fahrenheit: 90\n",
            "Celsius:  32.2\n"
          ]
        }
      ]
    },
    {
      "cell_type": "code",
      "source": [
        "def celsius_a_kelvin(c):\n",
        "    return c + 273.15\n",
        "\n",
        "def fahrenheit_a_kelvin(f):\n",
        "    return (f - 32) * 5 / 9 + 273.15\n",
        "\n",
        "tipo = input(\"¿Qué tipo de grados vas a introducir? (1 para Celsius, 2 para Fahrenheit): \").strip().upper()\n",
        "\n",
        "if tipo == \"1\":\n",
        "    c = float(input(\"Celsius: \"))\n",
        "    print(\"Kelvin: \", round(celsius_a_kelvin(c), 2))\n",
        "elif tipo == \"2\":\n",
        "    f = float(input(\"Fahrenheit: \"))\n",
        "    print(\"Kelvin: \", round(fahrenheit_a_kelvin(f), 2))\n",
        "else:\n",
        "    print(\"Tipo no válido. Introduce 1 para Celsius o 2 para Fahrenheit.\")"
      ],
      "metadata": {
        "id": "F_NFtu1l4I40",
        "outputId": "907e2c58-4114-4dee-c212-ea7e867e7330",
        "colab": {
          "base_uri": "https://localhost:8080/"
        }
      },
      "execution_count": 2,
      "outputs": [
        {
          "output_type": "stream",
          "name": "stdout",
          "text": [
            "¿Qué tipo de grados vas a introducir? (1 para Celsius, 2 para Fahrenheit): 1\n",
            "Celsius: 29\n",
            "Kelvin:  302.15\n"
          ]
        }
      ]
    }
  ]
}