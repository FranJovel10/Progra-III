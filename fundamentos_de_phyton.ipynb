{
  "nbformat": 4,
  "nbformat_minor": 0,
  "metadata": {
    "colab": {
      "provenance": [],
      "authorship_tag": "ABX9TyPg6a12tbJ07kclu2gKhAJi",
      "include_colab_link": true
    },
    "kernelspec": {
      "name": "python3",
      "display_name": "Python 3"
    },
    "language_info": {
      "name": "python"
    }
  },
  "cells": [
    {
      "cell_type": "markdown",
      "metadata": {
        "id": "view-in-github",
        "colab_type": "text"
      },
      "source": [
        "<a href=\"https://colab.research.google.com/github/FranJovel10/Progra-III/blob/main/fundamentos_de_phyton.ipynb\" target=\"_parent\"><img src=\"https://colab.research.google.com/assets/colab-badge.svg\" alt=\"Open In Colab\"/></a>"
      ]
    },
    {
      "cell_type": "code",
      "execution_count": null,
      "metadata": {
        "colab": {
          "base_uri": "https://localhost:8080/"
        },
        "id": "VjSiYRA2xcEw",
        "outputId": "be4cd468-875d-4dc0-8e29-9324dcb5a125"
      },
      "outputs": [
        {
          "output_type": "stream",
          "name": "stdout",
          "text": [
            "Hola mundo\n",
            "Hola  Fran , inicial:  F n\n"
          ]
        }
      ],
      "source": [
        "print(\"Hola mundo\")\n",
        "nombre = \"Fran\"\n",
        "\n",
        "print(\"Hola \", nombre, \", inicial: \", nombre[0], nombre[3])"
      ]
    },
    {
      "cell_type": "code",
      "source": [
        "def convertir_f(f):\n",
        "    return round ((f - 32) * 5 / 9, 1)\n",
        "\n",
        "f = float(input(\"Fahrenheit: \"))\n",
        "print(\"Celsius: \", convertir_f(f))"
      ],
      "metadata": {
        "id": "p8nlrgFI3n2q",
        "outputId": "55881bc7-8b07-4bf8-e73c-ed2a2bbc1a4f",
        "colab": {
          "base_uri": "https://localhost:8080/"
        }
      },
      "execution_count": 5,
      "outputs": [
        {
          "output_type": "stream",
          "name": "stdout",
          "text": [
            "Fahrenheit: 32\n",
            "Celsius:  0.0\n"
          ]
        }
      ]
    },
    {
      "cell_type": "code",
      "source": [
        "def celsius_a_kelvin(c):\n",
        "    return c + 273.15\n",
        "\n",
        "def fahrenheit_a_kelvin(f):\n",
        "    return (f - 32) * 5 / 9 + 273.15\n",
        "\n",
        "tipo = input(\"¿Qué tipo de grados vas a introducir? (1 para Celsius, 2 para Fahrenheit): \").strip().upper()\n",
        "\n",
        "if tipo == \"1\":\n",
        "    c = float(input(\"Celsius: \"))\n",
        "    print(\"Kelvin: \", round(celsius_a_kelvin(c), 2))\n",
        "elif tipo == \"2\":\n",
        "    f = float(input(\"Fahrenheit: \"))\n",
        "    print(\"Kelvin: \", round(fahrenheit_a_kelvin(f), 2))\n",
        "else:\n",
        "    print(\"Tipo no válido. Introduce 1 para Celsius o 2 para Fahrenheit.\")"
      ],
      "metadata": {
        "id": "F_NFtu1l4I40",
        "outputId": "42ba854e-f897-4e6e-e96b-fec9c39b6b11",
        "colab": {
          "base_uri": "https://localhost:8080/"
        }
      },
      "execution_count": 7,
      "outputs": [
        {
          "output_type": "stream",
          "name": "stdout",
          "text": [
            "¿Qué tipo de grados vas a introducir? (1 para Celsius, 2 para Fahrenheit): 2\n",
            "Fahrenheit: 315\n",
            "Kelvin:  430.37\n"
          ]
        }
      ]
    },
    {
      "cell_type": "code",
      "source": [
        "def elevarCuadrado(base, exponente):\n",
        "  return base**exponente\n",
        "num = int (input(\"num: \"))\n",
        "print(\"Cuadrado: \", elevarCuadrado(num, 3))\n"
      ],
      "metadata": {
        "id": "jKTU8owuCQtS"
      },
      "execution_count": null,
      "outputs": []
    },
    {
      "cell_type": "code",
      "source": [
        "elevarCuadradoLambda = lambda base, exponente: base**exponente\n"
      ],
      "metadata": {
        "id": "DTZzvjLuCT1L"
      },
      "execution_count": null,
      "outputs": []
    },
    {
      "cell_type": "code",
      "source": [
        "valor = int(input(\"num: \"))\n",
        "print(\"Cuadrado: \", elevarCuadradoLambda(valor, 2))\n",
        "\n"
      ],
      "metadata": {
        "id": "M9lEqof9Cd82"
      },
      "execution_count": null,
      "outputs": []
    },
    {
      "cell_type": "code",
      "source": [
        "serie = [5,4,3,2,6,7]\n",
        "resp = map(lambda x: x**2, serie)\n",
        "print(list(resp))\n",
        "\n",
        "resp2 = map(elevarCuadrado, serie)\n",
        "print(list(resp2))\n"
      ],
      "metadata": {
        "id": "Pbz_tyHOCh3N"
      },
      "execution_count": null,
      "outputs": []
    },
    {
      "cell_type": "markdown",
      "source": [
        "Ejercicio: obtener la raiz cuadrada de una serie de numeros fijos"
      ],
      "metadata": {
        "id": "jn4MT4NPDWRe"
      }
    },
    {
      "cell_type": "code",
      "source": [
        "import math\n",
        "\n",
        "numeros = [1, 4, 9, 16, 25, 36, 49, 64, 81, 100]\n",
        "raices_cuadradas = [int(math.sqrt(num)) for num in numeros]\n",
        "\n",
        "for num, raiz in zip(numeros, raices_cuadradas):\n",
        "    print(f'La raíz cuadrada de {num} es {raiz}')\n",
        "\n"
      ],
      "metadata": {
        "id": "62WQDvo2D1T2",
        "outputId": "2767d064-bd56-4094-ed5d-63414c87160e",
        "colab": {
          "base_uri": "https://localhost:8080/"
        }
      },
      "execution_count": 3,
      "outputs": [
        {
          "output_type": "stream",
          "name": "stdout",
          "text": [
            "La raíz cuadrada de 1 es 1\n",
            "La raíz cuadrada de 4 es 2\n",
            "La raíz cuadrada de 9 es 3\n",
            "La raíz cuadrada de 16 es 4\n",
            "La raíz cuadrada de 25 es 5\n",
            "La raíz cuadrada de 36 es 6\n",
            "La raíz cuadrada de 49 es 7\n",
            "La raíz cuadrada de 64 es 8\n",
            "La raíz cuadrada de 81 es 9\n",
            "La raíz cuadrada de 100 es 10\n"
          ]
        }
      ]
    }
  ]
}